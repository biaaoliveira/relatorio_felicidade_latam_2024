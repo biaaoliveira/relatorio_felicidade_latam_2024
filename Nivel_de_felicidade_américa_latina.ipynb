{
  "nbformat": 4,
  "nbformat_minor": 0,
  "metadata": {
    "colab": {
      "provenance": [],
      "authorship_tag": "ABX9TyOyAXmZEnVRVOk+iHqkYT7f",
      "include_colab_link": true
    },
    "kernelspec": {
      "name": "python3",
      "display_name": "Python 3"
    },
    "language_info": {
      "name": "python"
    }
  },
  "cells": [
    {
      "cell_type": "markdown",
      "metadata": {
        "id": "view-in-github",
        "colab_type": "text"
      },
      "source": [
        "<a href=\"https://colab.research.google.com/github/biaaoliveira/relatorio_felicidade_latam_2024/blob/main/Nivel_de_felicidade_am%C3%A9rica_latina.ipynb\" target=\"_parent\"><img src=\"https://colab.research.google.com/assets/colab-badge.svg\" alt=\"Open In Colab\"/></a>"
      ]
    },
    {
      "cell_type": "code",
      "execution_count": 85,
      "metadata": {
        "id": "tdEtVVH3U4fi"
      },
      "outputs": [],
      "source": [
        "import pandas as pd"
      ]
    },
    {
      "cell_type": "code",
      "source": [
        "df = pd.read_csv('World_Happiness_Report_2024.csv', sep = ',', low_memory= False)"
      ],
      "metadata": {
        "id": "_-KRIT7LVhn7"
      },
      "execution_count": 86,
      "outputs": []
    },
    {
      "cell_type": "code",
      "source": [
        "print(df.head())"
      ],
      "metadata": {
        "colab": {
          "base_uri": "https://localhost:8080/"
        },
        "id": "dDtbTABCwZrw",
        "outputId": "4ee4a839-a630-48b5-b1fa-b27e6930e0a6"
      },
      "execution_count": 87,
      "outputs": [
        {
          "output_type": "stream",
          "name": "stdout",
          "text": [
            "  Country name  year  Life Ladder  Log GDP per capita  Social support  \\\n",
            "0  Afghanistan  2008     3.723590            7.350416        0.450662   \n",
            "1  Afghanistan  2009     4.401778            7.508646        0.552308   \n",
            "2  Afghanistan  2010     4.758381            7.613900        0.539075   \n",
            "3  Afghanistan  2011     3.831719            7.581259        0.521104   \n",
            "4  Afghanistan  2012     3.782938            7.660506        0.520637   \n",
            "\n",
            "   Healthy life expectancy at birth  Freedom to make life choices  Generosity  \\\n",
            "0                         50.500000                      0.718114    0.164055   \n",
            "1                         50.799999                      0.678896    0.187297   \n",
            "2                         51.099998                      0.600127    0.117861   \n",
            "3                         51.400002                      0.495901    0.160098   \n",
            "4                         51.700001                      0.530935    0.234157   \n",
            "\n",
            "   Perceptions of corruption  Positive affect  Negative affect  \n",
            "0                   0.881686         0.414297         0.258195  \n",
            "1                   0.850035         0.481421         0.237092  \n",
            "2                   0.706766         0.516907         0.275324  \n",
            "3                   0.731109         0.479835         0.267175  \n",
            "4                   0.775620         0.613513         0.267919  \n"
          ]
        }
      ]
    },
    {
      "cell_type": "markdown",
      "source": [
        "# Renomeando nome das colunas\n",
        "  "
      ],
      "metadata": {
        "id": "5F748v773TyU"
      }
    },
    {
      "cell_type": "code",
      "source": [
        "df = df.rename(columns={\n",
        "    'Country name': 'Nome_do_país',\n",
        "    'year': 'Ano',\n",
        "    'Life Ladder': 'Felicidade',\n",
        "    'Log GDP per capita': 'PIB_per_capita',\n",
        "    'Social support': 'Suporte_social',\n",
        "    'Healthy life expectancy at birth': 'Expectativa_de_vida_saudável_ao_nascer',\n",
        "    'Freedom to make life choices': 'Liberdade_de_escolha',\n",
        "    'Generosity': 'Generosidade',\n",
        "    'Perceptions of corruption': 'Percepções_de_corrupção',\n",
        "    'Positive affect': 'Afetação_positiva',\n",
        "    'Negative affect': 'Afetação_negativa'\n",
        "    })\n",
        "print(df)"
      ],
      "metadata": {
        "colab": {
          "base_uri": "https://localhost:8080/"
        },
        "id": "0XNvL_lswftQ",
        "outputId": "829de6e4-d311-48a5-b2d8-592436e54afc"
      },
      "execution_count": 88,
      "outputs": [
        {
          "output_type": "stream",
          "name": "stdout",
          "text": [
            "     Nome_do_país   Ano  Felicidade  PIB_per_capita  Suporte_social  \\\n",
            "0     Afghanistan  2008    3.723590        7.350416        0.450662   \n",
            "1     Afghanistan  2009    4.401778        7.508646        0.552308   \n",
            "2     Afghanistan  2010    4.758381        7.613900        0.539075   \n",
            "3     Afghanistan  2011    3.831719        7.581259        0.521104   \n",
            "4     Afghanistan  2012    3.782938        7.660506        0.520637   \n",
            "...           ...   ...         ...             ...             ...   \n",
            "2358     Zimbabwe  2019    2.693523        7.697755        0.759162   \n",
            "2359     Zimbabwe  2020    3.159802        7.596050        0.717243   \n",
            "2360     Zimbabwe  2021    3.154578        7.656878        0.685151   \n",
            "2361     Zimbabwe  2022    3.296220        7.670073        0.666172   \n",
            "2362     Zimbabwe  2023    3.572386        7.678590        0.693817   \n",
            "\n",
            "      Expectativa_de_vida_saudável_ao_nascer  Liberdade_de_escolha  \\\n",
            "0                                  50.500000              0.718114   \n",
            "1                                  50.799999              0.678896   \n",
            "2                                  51.099998              0.600127   \n",
            "3                                  51.400002              0.495901   \n",
            "4                                  51.700001              0.530935   \n",
            "...                                      ...                   ...   \n",
            "2358                               53.099998              0.631908   \n",
            "2359                               53.575001              0.643303   \n",
            "2360                               54.049999              0.667636   \n",
            "2361                               54.525002              0.651987   \n",
            "2362                               55.000000              0.734613   \n",
            "\n",
            "      Generosidade  Percepções_de_corrupção  Afetação_positiva  \\\n",
            "0         0.164055                 0.881686           0.414297   \n",
            "1         0.187297                 0.850035           0.481421   \n",
            "2         0.117861                 0.706766           0.516907   \n",
            "3         0.160098                 0.731109           0.479835   \n",
            "4         0.234157                 0.775620           0.613513   \n",
            "...            ...                      ...                ...   \n",
            "2358     -0.050874                 0.830652           0.658434   \n",
            "2359      0.002848                 0.788523           0.660658   \n",
            "2360     -0.079007                 0.756945           0.609917   \n",
            "2361     -0.072935                 0.752632           0.640609   \n",
            "2362     -0.068837                 0.757494           0.609752   \n",
            "\n",
            "      Afetação_negativa  \n",
            "0              0.258195  \n",
            "1              0.237092  \n",
            "2              0.275324  \n",
            "3              0.267175  \n",
            "4              0.267919  \n",
            "...                 ...  \n",
            "2358           0.235354  \n",
            "2359           0.345736  \n",
            "2360           0.241682  \n",
            "2361           0.191350  \n",
            "2362           0.178953  \n",
            "\n",
            "[2363 rows x 11 columns]\n"
          ]
        }
      ]
    },
    {
      "cell_type": "markdown",
      "source": [
        "# Classificar Felicidade"
      ],
      "metadata": {
        "id": "potRCPL-3e6A"
      }
    },
    {
      "cell_type": "code",
      "source": [
        "paises_latam = [\n",
        "    'Argentina', 'Bolivia', 'Brazil', 'Chile', 'Colombia',\n",
        "    'Costa Rica', 'Cuba', 'Dominican Republic', 'Ecuador', 'El Salvador',\n",
        "    'Guatemala', 'Honduras', 'Mexico', 'Nicaragua', 'Panama',\n",
        "    'Paraguay', 'Peru', 'Uruguay', 'Venezuela', 'Haiti'\n",
        "]\n",
        "\n",
        "df['Nome_do_país'] = df['Nome_do_país'].str.strip().str.title()\n",
        "\n",
        "df['Países_da_américa_latina'] = df['Nome_do_país'].isin(paises_latam)"
      ],
      "metadata": {
        "id": "JDJo_tQs4IZs"
      },
      "execution_count": 89,
      "outputs": []
    },
    {
      "cell_type": "code",
      "source": [
        "def classificar_felicidade(score):\n",
        "    if score > 6.5:\n",
        "        return 'Alta'\n",
        "    elif score >= 5.0:\n",
        "        return 'Média'\n",
        "    else:\n",
        "        return 'Baixa'"
      ],
      "metadata": {
        "id": "WaLKnQCN4NVZ"
      },
      "execution_count": 90,
      "outputs": []
    },
    {
      "cell_type": "code",
      "source": [
        "df['Nivel_felicidade'] = df['Felicidade'].apply(classificar_felicidade)\n",
        "\n",
        "df_latam = df[df['Países_da_américa_latina']].copy()\n",
        "\n",
        "ordem_nivel = [\"Alta\", \"Média\", \"Baixa\"]\n",
        "df_latam['Nivel_felicidade'] = pd.Categorical(df_latam['Nivel_felicidade'], categories=ordem_nivel, ordered=True)\n",
        "\n",
        "df_latam_ordenado = df_latam.sort_values(by=['Nivel_felicidade', 'Nome_do_país'])\n",
        "\n",
        "colunas_exibir = ['Nome_do_país', 'Ano', 'Felicidade', 'Nivel_felicidade']\n",
        "print(df_latam_ordenado[colunas_exibir].reset_index(drop=True))"
      ],
      "metadata": {
        "colab": {
          "base_uri": "https://localhost:8080/"
        },
        "id": "RsnJKoM64OqQ",
        "outputId": "452142d4-4485-4c60-fad8-777f7cc7f417"
      },
      "execution_count": 91,
      "outputs": [
        {
          "output_type": "stream",
          "name": "stdout",
          "text": [
            "    Nome_do_país   Ano  Felicidade Nivel_felicidade\n",
            "0      Argentina  2011    6.775805             Alta\n",
            "1      Argentina  2013    6.582260             Alta\n",
            "2      Argentina  2014    6.671114             Alta\n",
            "3      Argentina  2015    6.697131             Alta\n",
            "4         Brazil  2005    6.636771             Alta\n",
            "..           ...   ...         ...              ...\n",
            "326     Paraguay  2006    4.730082            Baixa\n",
            "327         Peru  2006    4.810845            Baixa\n",
            "328         Peru  2020    4.994379            Baixa\n",
            "329    Venezuela  2016    4.041115            Baixa\n",
            "330    Venezuela  2020    4.573830            Baixa\n",
            "\n",
            "[331 rows x 4 columns]\n"
          ]
        }
      ]
    }
  ]
}